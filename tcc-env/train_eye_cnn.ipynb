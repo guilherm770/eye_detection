{
 "cells": [
  {
   "cell_type": "code",
   "execution_count": 10,
   "id": "c0525658",
   "metadata": {},
   "outputs": [],
   "source": [
    "import datetime\n",
    "import numpy as np\n",
    "import matplotlib.pyplot as plt\n",
    "from keras.layers import Input, Activation, Conv2D, Flatten, Dense, MaxPooling2D\n",
    "from keras.models import Model, load_model\n",
    "from keras.preprocessing.image import ImageDataGenerator\n",
    "from keras.callbacks import ModelCheckpoint, ReduceLROnPlateau\n",
    "from tensorflow.keras.optimizers import SGD\n",
    "from sklearn.metrics import accuracy_score, confusion_matrix\n",
    "import seaborn as sns"
   ]
  },
  {
   "cell_type": "code",
   "execution_count": 6,
   "id": "44d9a6b5",
   "metadata": {},
   "outputs": [],
   "source": [
    "# datasets de pré-processamento carregados\n",
    "x_train = np.load('dataset/x_train.npy').astype(np.float32)\n",
    "y_train = np.load('dataset/y_train.npy').astype(np.float32)\n",
    "x_val = np.load('dataset/x_val.npy').astype(np.float32)\n",
    "y_val = np.load('dataset/y_val.npy').astype(np.float32)"
   ]
  },
  {
   "cell_type": "code",
   "execution_count": 7,
   "id": "62a1463a",
   "metadata": {},
   "outputs": [],
   "source": [
    "# data augmentation\n",
    "train_datagen = ImageDataGenerator(\n",
    "    rescale=1./255,\n",
    "    rotation_range=10,\n",
    "    width_shift_range=0.2,\n",
    "    height_shift_range=0.2,\n",
    "    shear_range=0.2\n",
    ")\n",
    "\n",
    "val_datagen = ImageDataGenerator(rescale=1./255)\n",
    "\n",
    "train_generator = train_datagen.flow(\n",
    "    x=x_train, y=y_train,\n",
    "    batch_size=32,\n",
    "    shuffle=True\n",
    ")\n",
    "\n",
    "val_generator = val_datagen.flow(\n",
    "    x=x_val, y=y_val,\n",
    "    batch_size=32,\n",
    "    shuffle=False\n",
    ")"
   ]
  },
  {
   "cell_type": "code",
   "execution_count": 8,
   "id": "c406810b",
   "metadata": {},
   "outputs": [
    {
     "name": "stdout",
     "output_type": "stream",
     "text": [
      "Model: \"model\"\n",
      "_________________________________________________________________\n",
      " Layer (type)                Output Shape              Param #   \n",
      "=================================================================\n",
      " input_1 (InputLayer)        [(None, 26, 34, 1)]       0         \n",
      "                                                                 \n",
      " conv2d (Conv2D)             (None, 26, 34, 32)        320       \n",
      "                                                                 \n",
      " max_pooling2d (MaxPooling2D  (None, 13, 17, 32)       0         \n",
      " )                                                               \n",
      "                                                                 \n",
      " conv2d_1 (Conv2D)           (None, 13, 17, 64)        18496     \n",
      "                                                                 \n",
      " max_pooling2d_1 (MaxPooling  (None, 6, 8, 64)         0         \n",
      " 2D)                                                             \n",
      "                                                                 \n",
      " conv2d_2 (Conv2D)           (None, 6, 8, 128)         73856     \n",
      "                                                                 \n",
      " max_pooling2d_2 (MaxPooling  (None, 3, 4, 128)        0         \n",
      " 2D)                                                             \n",
      "                                                                 \n",
      " flatten (Flatten)           (None, 1536)              0         \n",
      "                                                                 \n",
      " dense (Dense)               (None, 512)               786944    \n",
      "                                                                 \n",
      " activation (Activation)     (None, 512)               0         \n",
      "                                                                 \n",
      " dense_1 (Dense)             (None, 1)                 513       \n",
      "                                                                 \n",
      " activation_1 (Activation)   (None, 1)                 0         \n",
      "                                                                 \n",
      "=================================================================\n",
      "Total params: 880,129\n",
      "Trainable params: 880,129\n",
      "Non-trainable params: 0\n",
      "_________________________________________________________________\n"
     ]
    },
    {
     "name": "stderr",
     "output_type": "stream",
     "text": [
      "2022-01-09 10:40:57.923264: W tensorflow/stream_executor/platform/default/dso_loader.cc:64] Could not load dynamic library 'libcuda.so.1'; dlerror: libcuda.so.1: cannot open shared object file: No such file or directory\n",
      "2022-01-09 10:40:57.923298: W tensorflow/stream_executor/cuda/cuda_driver.cc:269] failed call to cuInit: UNKNOWN ERROR (303)\n",
      "2022-01-09 10:40:57.923325: I tensorflow/stream_executor/cuda/cuda_diagnostics.cc:156] kernel driver does not appear to be running on this host (guilherme-Aspire-E5-574): /proc/driver/nvidia/version does not exist\n",
      "2022-01-09 10:40:57.923570: I tensorflow/core/platform/cpu_feature_guard.cc:151] This TensorFlow binary is optimized with oneAPI Deep Neural Network Library (oneDNN) to use the following CPU instructions in performance-critical operations:  AVX2 FMA\n",
      "To enable them in other operations, rebuild TensorFlow with the appropriate compiler flags.\n"
     ]
    }
   ],
   "source": [
    "inputs = Input(shape=(26, 34, 1))\n",
    "\n",
    "net = Conv2D(32, kernel_size=3, strides=1, padding='same', activation='relu')(inputs)\n",
    "net = MaxPooling2D(pool_size=2)(net)\n",
    "\n",
    "net = Conv2D(64, kernel_size=3, strides=1, padding='same', activation='relu')(net)\n",
    "net = MaxPooling2D(pool_size=2)(net)\n",
    "\n",
    "net = Conv2D(128, kernel_size=3, strides=1, padding='same', activation='relu')(net)\n",
    "net = MaxPooling2D(pool_size=2)(net)\n",
    "\n",
    "net = Flatten()(net)\n",
    "\n",
    "net = Dense(512)(net)\n",
    "net = Activation('relu')(net)\n",
    "net = Dense(1)(net)\n",
    "outputs = Activation('sigmoid')(net)\n",
    "\n",
    "model = Model(inputs=inputs, outputs=outputs)\n",
    "\n",
    "model.compile(optimizer='adam', loss='binary_crossentropy', metrics=['acc'])\n",
    "\n",
    "model.summary()"
   ]
  },
  {
   "cell_type": "code",
   "execution_count": 9,
   "id": "308065a1",
   "metadata": {},
   "outputs": [
    {
     "name": "stdout",
     "output_type": "stream",
     "text": [
      "Epoch 1/50\n",
      "63/63 [==============================] - ETA: 0s - loss: 0.5278 - acc: 0.7151\n",
      "Epoch 00001: val_acc improved from -inf to 0.82966, saving model to models/2022_01_09_11_02_24.h5\n",
      "63/63 [==============================] - 4s 48ms/step - loss: 0.5278 - acc: 0.7151 - val_loss: 0.3864 - val_acc: 0.8297 - lr: 0.0010\n",
      "Epoch 2/50\n",
      "63/63 [==============================] - ETA: 0s - loss: 0.3185 - acc: 0.8672\n",
      "Epoch 00002: val_acc improved from 0.82966 to 0.88181, saving model to models/2022_01_09_11_02_24.h5\n",
      "63/63 [==============================] - 3s 45ms/step - loss: 0.3185 - acc: 0.8672 - val_loss: 0.2683 - val_acc: 0.8818 - lr: 0.0010\n",
      "Epoch 3/50\n",
      "63/63 [==============================] - ETA: 0s - loss: 0.2371 - acc: 0.9035\n",
      "Epoch 00003: val_acc improved from 0.88181 to 0.94322, saving model to models/2022_01_09_11_02_24.h5\n",
      "63/63 [==============================] - 3s 48ms/step - loss: 0.2371 - acc: 0.9035 - val_loss: 0.1530 - val_acc: 0.9432 - lr: 0.0010\n",
      "Epoch 4/50\n",
      "63/63 [==============================] - ETA: 0s - loss: 0.1732 - acc: 0.9304\n",
      "Epoch 00004: val_acc improved from 0.94322 to 0.97103, saving model to models/2022_01_09_11_02_24.h5\n",
      "63/63 [==============================] - 3s 44ms/step - loss: 0.1732 - acc: 0.9304 - val_loss: 0.1005 - val_acc: 0.9710 - lr: 0.0010\n",
      "Epoch 5/50\n",
      "62/63 [============================>.] - ETA: 0s - loss: 0.1541 - acc: 0.9429\n",
      "Epoch 00005: val_acc improved from 0.97103 to 0.97914, saving model to models/2022_01_09_11_02_24.h5\n",
      "63/63 [==============================] - 3s 47ms/step - loss: 0.1532 - acc: 0.9428 - val_loss: 0.0617 - val_acc: 0.9791 - lr: 0.0010\n",
      "Epoch 6/50\n",
      "63/63 [==============================] - ETA: 0s - loss: 0.1165 - acc: 0.9597\n",
      "Epoch 00006: val_acc improved from 0.97914 to 0.98262, saving model to models/2022_01_09_11_02_24.h5\n",
      "63/63 [==============================] - 3s 44ms/step - loss: 0.1165 - acc: 0.9597 - val_loss: 0.0656 - val_acc: 0.9826 - lr: 0.0010\n",
      "Epoch 7/50\n",
      "63/63 [==============================] - ETA: 0s - loss: 0.1143 - acc: 0.9627\n",
      "Epoch 00007: val_acc did not improve from 0.98262\n",
      "63/63 [==============================] - 3s 46ms/step - loss: 0.1143 - acc: 0.9627 - val_loss: 0.0815 - val_acc: 0.9791 - lr: 0.0010\n",
      "Epoch 8/50\n",
      "63/63 [==============================] - ETA: 0s - loss: 0.1045 - acc: 0.9657\n",
      "Epoch 00008: val_acc did not improve from 0.98262\n",
      "63/63 [==============================] - 3s 49ms/step - loss: 0.1045 - acc: 0.9657 - val_loss: 0.1129 - val_acc: 0.9676 - lr: 0.0010\n",
      "Epoch 9/50\n",
      "63/63 [==============================] - ETA: 0s - loss: 0.1198 - acc: 0.9577\n",
      "Epoch 00009: val_acc did not improve from 0.98262\n",
      "63/63 [==============================] - 3s 45ms/step - loss: 0.1198 - acc: 0.9577 - val_loss: 0.1196 - val_acc: 0.9641 - lr: 0.0010\n",
      "Epoch 10/50\n",
      "63/63 [==============================] - ETA: 0s - loss: 0.0980 - acc: 0.9642\n",
      "Epoch 00010: val_acc improved from 0.98262 to 0.98494, saving model to models/2022_01_09_11_02_24.h5\n",
      "63/63 [==============================] - 3s 49ms/step - loss: 0.0980 - acc: 0.9642 - val_loss: 0.0436 - val_acc: 0.9849 - lr: 0.0010\n",
      "Epoch 11/50\n",
      "63/63 [==============================] - ETA: 0s - loss: 0.0788 - acc: 0.9736\n",
      "Epoch 00011: val_acc improved from 0.98494 to 0.99073, saving model to models/2022_01_09_11_02_24.h5\n",
      "63/63 [==============================] - 3s 49ms/step - loss: 0.0788 - acc: 0.9736 - val_loss: 0.0409 - val_acc: 0.9907 - lr: 0.0010\n",
      "Epoch 12/50\n",
      "63/63 [==============================] - ETA: 0s - loss: 0.0863 - acc: 0.9722\n",
      "Epoch 00012: val_acc did not improve from 0.99073\n",
      "63/63 [==============================] - 3s 49ms/step - loss: 0.0863 - acc: 0.9722 - val_loss: 0.0342 - val_acc: 0.9884 - lr: 0.0010\n",
      "Epoch 13/50\n",
      "62/63 [============================>.] - ETA: 0s - loss: 0.0585 - acc: 0.9803\n",
      "Epoch 00013: val_acc improved from 0.99073 to 0.99305, saving model to models/2022_01_09_11_02_24.h5\n",
      "63/63 [==============================] - 3s 45ms/step - loss: 0.0577 - acc: 0.9806 - val_loss: 0.0369 - val_acc: 0.9930 - lr: 0.0010\n",
      "Epoch 14/50\n",
      "62/63 [============================>.] - ETA: 0s - loss: 0.0665 - acc: 0.9788\n",
      "Epoch 00014: val_acc did not improve from 0.99305\n",
      "63/63 [==============================] - 3s 50ms/step - loss: 0.0676 - acc: 0.9781 - val_loss: 0.0569 - val_acc: 0.9826 - lr: 0.0010\n",
      "Epoch 15/50\n",
      "62/63 [============================>.] - ETA: 0s - loss: 0.0517 - acc: 0.9853\n",
      "Epoch 00015: val_acc did not improve from 0.99305\n",
      "63/63 [==============================] - 3s 46ms/step - loss: 0.0515 - acc: 0.9856 - val_loss: 0.0290 - val_acc: 0.9907 - lr: 0.0010\n",
      "Epoch 16/50\n",
      "63/63 [==============================] - ETA: 0s - loss: 0.0467 - acc: 0.9826\n",
      "Epoch 00016: val_acc did not improve from 0.99305\n",
      "63/63 [==============================] - 3s 45ms/step - loss: 0.0467 - acc: 0.9826 - val_loss: 0.0379 - val_acc: 0.9919 - lr: 0.0010\n",
      "Epoch 17/50\n",
      "62/63 [============================>.] - ETA: 0s - loss: 0.0505 - acc: 0.9828\n",
      "Epoch 00017: val_acc did not improve from 0.99305\n",
      "63/63 [==============================] - 3s 46ms/step - loss: 0.0497 - acc: 0.9831 - val_loss: 0.0272 - val_acc: 0.9919 - lr: 0.0010\n",
      "Epoch 18/50\n",
      "62/63 [============================>.] - ETA: 0s - loss: 0.0305 - acc: 0.9879\n",
      "Epoch 00018: val_acc did not improve from 0.99305\n",
      "63/63 [==============================] - 3s 48ms/step - loss: 0.0312 - acc: 0.9876 - val_loss: 0.0710 - val_acc: 0.9849 - lr: 0.0010\n",
      "Epoch 19/50\n",
      "63/63 [==============================] - ETA: 0s - loss: 0.0514 - acc: 0.9801\n",
      "Epoch 00019: val_acc did not improve from 0.99305\n",
      "63/63 [==============================] - 3s 47ms/step - loss: 0.0514 - acc: 0.9801 - val_loss: 0.0445 - val_acc: 0.9849 - lr: 0.0010\n",
      "Epoch 20/50\n",
      "62/63 [============================>.] - ETA: 0s - loss: 0.0437 - acc: 0.9864\n",
      "Epoch 00020: val_acc did not improve from 0.99305\n",
      "63/63 [==============================] - 3s 46ms/step - loss: 0.0432 - acc: 0.9866 - val_loss: 0.0347 - val_acc: 0.9930 - lr: 0.0010\n",
      "Epoch 21/50\n",
      "63/63 [==============================] - ETA: 0s - loss: 0.0482 - acc: 0.9841\n",
      "Epoch 00021: val_acc improved from 0.99305 to 0.99537, saving model to models/2022_01_09_11_02_24.h5\n",
      "63/63 [==============================] - 3s 51ms/step - loss: 0.0482 - acc: 0.9841 - val_loss: 0.0281 - val_acc: 0.9954 - lr: 0.0010\n",
      "Epoch 22/50\n",
      "63/63 [==============================] - ETA: 0s - loss: 0.0382 - acc: 0.9901\n",
      "Epoch 00022: val_acc did not improve from 0.99537\n",
      "63/63 [==============================] - 3s 49ms/step - loss: 0.0382 - acc: 0.9901 - val_loss: 0.0328 - val_acc: 0.9930 - lr: 0.0010\n",
      "Epoch 23/50\n",
      "62/63 [============================>.] - ETA: 0s - loss: 0.0356 - acc: 0.9899\n",
      "Epoch 00023: val_acc improved from 0.99537 to 0.99652, saving model to models/2022_01_09_11_02_24.h5\n",
      "63/63 [==============================] - 3s 47ms/step - loss: 0.0357 - acc: 0.9896 - val_loss: 0.0213 - val_acc: 0.9965 - lr: 0.0010\n",
      "Epoch 24/50\n",
      "63/63 [==============================] - ETA: 0s - loss: 0.0421 - acc: 0.9851\n",
      "Epoch 00024: val_acc did not improve from 0.99652\n",
      "63/63 [==============================] - 3s 45ms/step - loss: 0.0421 - acc: 0.9851 - val_loss: 0.0526 - val_acc: 0.9873 - lr: 0.0010\n",
      "Epoch 25/50\n",
      "62/63 [============================>.] - ETA: 0s - loss: 0.0405 - acc: 0.9894\n",
      "Epoch 00025: val_acc did not improve from 0.99652\n",
      "63/63 [==============================] - 3s 46ms/step - loss: 0.0399 - acc: 0.9896 - val_loss: 0.0253 - val_acc: 0.9942 - lr: 0.0010\n",
      "Epoch 26/50\n",
      "62/63 [============================>.] - ETA: 0s - loss: 0.0200 - acc: 0.9909\n",
      "Epoch 00026: val_acc did not improve from 0.99652\n",
      "63/63 [==============================] - 3s 47ms/step - loss: 0.0198 - acc: 0.9910 - val_loss: 0.0285 - val_acc: 0.9954 - lr: 0.0010\n",
      "Epoch 27/50\n",
      "62/63 [============================>.] - ETA: 0s - loss: 0.0187 - acc: 0.9944\n",
      "Epoch 00027: val_acc did not improve from 0.99652\n",
      "63/63 [==============================] - 3s 49ms/step - loss: 0.0187 - acc: 0.9945 - val_loss: 0.0270 - val_acc: 0.9930 - lr: 0.0010\n",
      "Epoch 28/50\n",
      "63/63 [==============================] - ETA: 0s - loss: 0.0208 - acc: 0.9935\n",
      "Epoch 00028: val_acc did not improve from 0.99652\n",
      "63/63 [==============================] - 3s 45ms/step - loss: 0.0208 - acc: 0.9935 - val_loss: 0.0339 - val_acc: 0.9954 - lr: 0.0010\n"
     ]
    },
    {
     "name": "stdout",
     "output_type": "stream",
     "text": [
      "Epoch 29/50\n",
      "62/63 [============================>.] - ETA: 0s - loss: 0.0172 - acc: 0.9944\n",
      "Epoch 00029: val_acc did not improve from 0.99652\n",
      "63/63 [==============================] - 3s 47ms/step - loss: 0.0175 - acc: 0.9940 - val_loss: 0.0260 - val_acc: 0.9896 - lr: 0.0010\n",
      "Epoch 30/50\n",
      "62/63 [============================>.] - ETA: 0s - loss: 0.0445 - acc: 0.9818\n",
      "Epoch 00030: val_acc did not improve from 0.99652\n",
      "63/63 [==============================] - 3s 45ms/step - loss: 0.0439 - acc: 0.9821 - val_loss: 0.0182 - val_acc: 0.9942 - lr: 0.0010\n",
      "Epoch 31/50\n",
      "63/63 [==============================] - ETA: 0s - loss: 0.0221 - acc: 0.9935\n",
      "Epoch 00031: val_acc did not improve from 0.99652\n",
      "63/63 [==============================] - 3s 44ms/step - loss: 0.0221 - acc: 0.9935 - val_loss: 0.0295 - val_acc: 0.9919 - lr: 0.0010\n",
      "Epoch 32/50\n",
      "63/63 [==============================] - ETA: 0s - loss: 0.0184 - acc: 0.9940\n",
      "Epoch 00032: val_acc did not improve from 0.99652\n",
      "63/63 [==============================] - 3s 45ms/step - loss: 0.0184 - acc: 0.9940 - val_loss: 0.0357 - val_acc: 0.9873 - lr: 0.0010\n",
      "Epoch 33/50\n",
      "63/63 [==============================] - ETA: 0s - loss: 0.0140 - acc: 0.9955\n",
      "Epoch 00033: val_acc did not improve from 0.99652\n",
      "\n",
      "Epoch 00033: ReduceLROnPlateau reducing learning rate to 0.00020000000949949026.\n",
      "63/63 [==============================] - 3s 45ms/step - loss: 0.0140 - acc: 0.9955 - val_loss: 0.0316 - val_acc: 0.9884 - lr: 0.0010\n",
      "Epoch 34/50\n",
      "63/63 [==============================] - ETA: 0s - loss: 0.0137 - acc: 0.9945\n",
      "Epoch 00034: val_acc did not improve from 0.99652\n",
      "63/63 [==============================] - 3s 45ms/step - loss: 0.0137 - acc: 0.9945 - val_loss: 0.0283 - val_acc: 0.9930 - lr: 2.0000e-04\n",
      "Epoch 35/50\n",
      "62/63 [============================>.] - ETA: 0s - loss: 0.0101 - acc: 0.9970\n",
      "Epoch 00035: val_acc did not improve from 0.99652\n",
      "63/63 [==============================] - 3s 45ms/step - loss: 0.0100 - acc: 0.9970 - val_loss: 0.0212 - val_acc: 0.9954 - lr: 2.0000e-04\n",
      "Epoch 36/50\n",
      "62/63 [============================>.] - ETA: 0s - loss: 0.0055 - acc: 0.9990\n",
      "Epoch 00036: val_acc did not improve from 0.99652\n",
      "63/63 [==============================] - 3s 44ms/step - loss: 0.0055 - acc: 0.9990 - val_loss: 0.0212 - val_acc: 0.9942 - lr: 2.0000e-04\n",
      "Epoch 37/50\n",
      "63/63 [==============================] - ETA: 0s - loss: 0.0067 - acc: 0.9975\n",
      "Epoch 00037: val_acc did not improve from 0.99652\n",
      "63/63 [==============================] - 3s 45ms/step - loss: 0.0067 - acc: 0.9975 - val_loss: 0.0302 - val_acc: 0.9919 - lr: 2.0000e-04\n",
      "Epoch 38/50\n",
      "62/63 [============================>.] - ETA: 0s - loss: 0.0095 - acc: 0.9970\n",
      "Epoch 00038: val_acc did not improve from 0.99652\n",
      "63/63 [==============================] - 3s 46ms/step - loss: 0.0094 - acc: 0.9970 - val_loss: 0.0264 - val_acc: 0.9954 - lr: 2.0000e-04\n",
      "Epoch 39/50\n",
      "63/63 [==============================] - ETA: 0s - loss: 0.0077 - acc: 0.9975\n",
      "Epoch 00039: val_acc did not improve from 0.99652\n",
      "63/63 [==============================] - 3s 44ms/step - loss: 0.0077 - acc: 0.9975 - val_loss: 0.0164 - val_acc: 0.9965 - lr: 2.0000e-04\n",
      "Epoch 40/50\n",
      "63/63 [==============================] - ETA: 0s - loss: 0.0098 - acc: 0.9960\n",
      "Epoch 00040: val_acc did not improve from 0.99652\n",
      "63/63 [==============================] - 3s 44ms/step - loss: 0.0098 - acc: 0.9960 - val_loss: 0.0190 - val_acc: 0.9965 - lr: 2.0000e-04\n",
      "Epoch 41/50\n",
      "63/63 [==============================] - ETA: 0s - loss: 0.0071 - acc: 0.9990\n",
      "Epoch 00041: val_acc did not improve from 0.99652\n",
      "63/63 [==============================] - 3s 44ms/step - loss: 0.0071 - acc: 0.9990 - val_loss: 0.0223 - val_acc: 0.9942 - lr: 2.0000e-04\n",
      "Epoch 42/50\n",
      "63/63 [==============================] - ETA: 0s - loss: 0.0080 - acc: 0.9980\n",
      "Epoch 00042: val_acc did not improve from 0.99652\n",
      "63/63 [==============================] - 3s 45ms/step - loss: 0.0080 - acc: 0.9980 - val_loss: 0.0187 - val_acc: 0.9965 - lr: 2.0000e-04\n",
      "Epoch 43/50\n",
      "63/63 [==============================] - ETA: 0s - loss: 0.0081 - acc: 0.9980\n",
      "Epoch 00043: val_acc did not improve from 0.99652\n",
      "\n",
      "Epoch 00043: ReduceLROnPlateau reducing learning rate to 4.0000001899898055e-05.\n",
      "63/63 [==============================] - 3s 45ms/step - loss: 0.0081 - acc: 0.9980 - val_loss: 0.0226 - val_acc: 0.9942 - lr: 2.0000e-04\n",
      "Epoch 44/50\n",
      "63/63 [==============================] - ETA: 0s - loss: 0.0046 - acc: 0.9985\n",
      "Epoch 00044: val_acc did not improve from 0.99652\n",
      "63/63 [==============================] - 3s 45ms/step - loss: 0.0046 - acc: 0.9985 - val_loss: 0.0237 - val_acc: 0.9930 - lr: 4.0000e-05\n",
      "Epoch 45/50\n",
      "62/63 [============================>.] - ETA: 0s - loss: 0.0092 - acc: 0.9975\n",
      "Epoch 00045: val_acc did not improve from 0.99652\n",
      "63/63 [==============================] - 3s 45ms/step - loss: 0.0090 - acc: 0.9975 - val_loss: 0.0220 - val_acc: 0.9965 - lr: 4.0000e-05\n",
      "Epoch 46/50\n",
      "63/63 [==============================] - ETA: 0s - loss: 0.0056 - acc: 0.9990\n",
      "Epoch 00046: val_acc did not improve from 0.99652\n",
      "63/63 [==============================] - 3s 44ms/step - loss: 0.0056 - acc: 0.9990 - val_loss: 0.0228 - val_acc: 0.9942 - lr: 4.0000e-05\n",
      "Epoch 47/50\n",
      "63/63 [==============================] - ETA: 0s - loss: 0.0081 - acc: 0.9975\n",
      "Epoch 00047: val_acc did not improve from 0.99652\n",
      "63/63 [==============================] - 3s 44ms/step - loss: 0.0081 - acc: 0.9975 - val_loss: 0.0222 - val_acc: 0.9954 - lr: 4.0000e-05\n",
      "Epoch 48/50\n",
      "62/63 [============================>.] - ETA: 0s - loss: 0.0074 - acc: 0.9980\n",
      "Epoch 00048: val_acc improved from 0.99652 to 0.99768, saving model to models/2022_01_09_11_02_24.h5\n",
      "63/63 [==============================] - 3s 47ms/step - loss: 0.0073 - acc: 0.9980 - val_loss: 0.0198 - val_acc: 0.9977 - lr: 4.0000e-05\n",
      "Epoch 49/50\n",
      "63/63 [==============================] - ETA: 0s - loss: 0.0060 - acc: 0.9975\n",
      "Epoch 00049: val_acc did not improve from 0.99768\n",
      "63/63 [==============================] - 3s 45ms/step - loss: 0.0060 - acc: 0.9975 - val_loss: 0.0207 - val_acc: 0.9965 - lr: 4.0000e-05\n",
      "Epoch 50/50\n",
      "63/63 [==============================] - ETA: 0s - loss: 0.0103 - acc: 0.9965\n",
      "Epoch 00050: val_acc did not improve from 0.99768\n",
      "63/63 [==============================] - 3s 45ms/step - loss: 0.0103 - acc: 0.9965 - val_loss: 0.0184 - val_acc: 0.9977 - lr: 4.0000e-05\n"
     ]
    },
    {
     "data": {
      "text/plain": [
       "<keras.callbacks.History at 0x7f1314250040>"
      ]
     },
     "execution_count": 9,
     "metadata": {},
     "output_type": "execute_result"
    }
   ],
   "source": [
    "start_time = datetime.datetime.now().strftime('%Y_%m_%d_%H_%M_%S')\n",
    "\n",
    "model.fit(\n",
    "    train_generator, epochs=50, validation_data=val_generator,\n",
    "    callbacks=[\n",
    "        ModelCheckpoint('models/%s.h5' % (start_time), monitor='val_acc', save_best_only=True, mode='max', verbose=1),\n",
    "        ReduceLROnPlateau(monitor='val_acc', factor=0.2, patience=10, verbose=1, mode='auto', min_lr=1e-05)\n",
    "    ]\n",
    ")"
   ]
  },
  {
   "cell_type": "code",
   "execution_count": 11,
   "id": "d0c1ce2f",
   "metadata": {},
   "outputs": [
    {
     "name": "stdout",
     "output_type": "stream",
     "text": [
      "test acc: 0.9976825028968713\n"
     ]
    },
    {
     "name": "stderr",
     "output_type": "stream",
     "text": [
      "/tmp/ipykernel_12695/2331932957.py:4: DeprecationWarning: `np.int` is a deprecated alias for the builtin `int`. To silence this warning, use `int` by itself. Doing this will not modify any behavior and is safe. When replacing `np.int`, you may wish to use e.g. `np.int64` or `np.int32` to specify the precision. If you wish to review your current use, check the release note link for additional information.\n",
      "Deprecated in NumPy 1.20; for more details and guidance: https://numpy.org/devdocs/release/1.20.0-notes.html#deprecations\n",
      "  y_pred_logical = (y_pred > 0.5).astype(np.int)\n"
     ]
    },
    {
     "data": {
      "text/plain": [
       "<AxesSubplot:>"
      ]
     },
     "execution_count": 11,
     "metadata": {},
     "output_type": "execute_result"
    },
    {
     "data": {
      "image/png": "[encoded data removed]",
      "text/plain": [
       "<Figure size 432x288 with 2 Axes>"
      ]
     },
     "metadata": {
      "needs_background": "light"
     },
     "output_type": "display_data"
    }
   ],
   "source": [
    "model = load_model('models/%s.h5' % (start_time))\n",
    "\n",
    "y_pred = model.predict(x_val/255.)\n",
    "y_pred_logical = (y_pred > 0.5).astype(np.int)\n",
    "\n",
    "print ('test acc: %s' % accuracy_score(y_val, y_pred_logical))\n",
    "cm = confusion_matrix(y_val, y_pred_logical)\n",
    "sns.heatmap(cm, annot=True)"
   ]
  },
  {
   "cell_type": "code",
   "execution_count": 12,
   "id": "cfeb3fb1",
   "metadata": {},
   "outputs": [
    {
     "name": "stderr",
     "output_type": "stream",
     "text": [
      "/home/guilherme/Documentos/.virtualenvs/tcc-env/lib/python3.8/site-packages/seaborn/distributions.py:2619: FutureWarning: `distplot` is a deprecated function and will be removed in a future version. Please adapt your code to use either `displot` (a figure-level function with similar flexibility) or `histplot` (an axes-level function for histograms).\n",
      "  warnings.warn(msg, FutureWarning)\n"
     ]
    },
    {
     "data": {
      "image/png": "[encoded data removed]",
      "text/plain": [
       "<Figure size 432x288 with 1 Axes>"
      ]
     },
     "metadata": {
      "needs_background": "light"
     },
     "output_type": "display_data"
    }
   ],
   "source": [
    "ax = sns.distplot(y_pred, kde=False)"
   ]
  },
  {
   "cell_type": "code",
   "execution_count": null,
   "id": "4162c803",
   "metadata": {},
   "outputs": [],
   "source": []
  }
 ],
 "metadata": {
  "kernelspec": {
   "display_name": "tcc-env",
   "language": "python",
   "name": "tcc-env"
  },
  "language_info": {
   "codemirror_mode": {
    "name": "ipython",
    "version": 3
   },
   "file_extension": ".py",
   "mimetype": "text/x-python",
   "name": "python",
   "nbconvert_exporter": "python",
   "pygments_lexer": "ipython3",
   "version": "3.8.10"
  }
 },
 "nbformat": 4,
 "nbformat_minor": 5
}
