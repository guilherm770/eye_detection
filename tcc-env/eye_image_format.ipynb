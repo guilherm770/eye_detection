{
 "cells": [
  {
   "cell_type": "code",
   "execution_count": 1,
   "id": "d1674de6",
   "metadata": {},
   "outputs": [],
   "source": [
    "import numpy as np\n",
    "import csv\n",
    "import os\n",
    "import pandas as pd"
   ]
  },
  {
   "cell_type": "code",
   "execution_count": 3,
   "id": "cdcddf2c",
   "metadata": {},
   "outputs": [],
   "source": [
    "def eye_image_format(df):\n",
    "    # definição das dimensões das imagens\n",
    "    width = 34\n",
    "    height = 26\n",
    "    dims = 1\n",
    "    \n",
    "    # vetores vazios para armazenar as imagens e seus rótulos\n",
    "    imgs = np.empty((df.shape[0],height,width, dims),dtype=np.uint8)\n",
    "    tgs = np.empty((df.shape[0],1))\n",
    "    \n",
    "    # separação de rótulo e imagens em variáveis distintas, tgs e imgs, mas com mesmo index\n",
    "    for i in range(df.shape[0]):\n",
    "        # conversão da imagens de str pra int\n",
    "        im = np.array(df.loc[i,'image'].strip('[').strip(']').split(', '), dtype=np.uint8)\n",
    "        # formatação das imagens\n",
    "        im = np.expand_dims(im.reshape((height, width)), axis=2)\n",
    "        imgs[i] = im\n",
    "\n",
    "        # armazenamento dos rótulos\n",
    "        tag = df.loc[i,'state']\n",
    "        if tag == 'open':\n",
    "          tgs[i] = 1\n",
    "        else:\n",
    "          tgs[i] = 0\n",
    "    \n",
    "    # embaralhamento das variáveis imgs e tgs\n",
    "    index = np.random.permutation(imgs.shape[0])\n",
    "    imgs = imgs[index]\n",
    "    tgs = tgs[index]\n",
    "\n",
    "    return imgs, tgs"
   ]
  },
  {
   "cell_type": "code",
   "execution_count": null,
   "id": "75b6b2d5",
   "metadata": {},
   "outputs": [],
   "source": []
  }
 ],
 "metadata": {
  "kernelspec": {
   "display_name": "tcc-env",
   "language": "python",
   "name": "tcc-env"
  },
  "language_info": {
   "codemirror_mode": {
    "name": "ipython",
    "version": 3
   },
   "file_extension": ".py",
   "mimetype": "text/x-python",
   "name": "python",
   "nbconvert_exporter": "python",
   "pygments_lexer": "ipython3",
   "version": "3.8.10"
  }
 },
 "nbformat": 4,
 "nbformat_minor": 5
}
